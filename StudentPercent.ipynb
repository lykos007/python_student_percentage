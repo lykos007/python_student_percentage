{
  "nbformat": 4,
  "nbformat_minor": 0,
  "metadata": {
    "colab": {
      "provenance": [],
      "authorship_tag": "ABX9TyPDPvxcL/oKAVb85X9BRtcL",
      "include_colab_link": true
    },
    "kernelspec": {
      "name": "python3",
      "display_name": "Python 3"
    },
    "language_info": {
      "name": "python"
    }
  },
  "cells": [
    {
      "cell_type": "markdown",
      "metadata": {
        "id": "view-in-github",
        "colab_type": "text"
      },
      "source": [
        "<a href=\"https://colab.research.google.com/github/lykos007/python_student_percentage/blob/main/StudentPercent.ipynb\" target=\"_parent\"><img src=\"https://colab.research.google.com/assets/colab-badge.svg\" alt=\"Open In Colab\"/></a>"
      ]
    },
    {
      "cell_type": "code",
      "execution_count": null,
      "metadata": {
        "id": "-Goj1YtOs9_i"
      },
      "outputs": [],
      "source": [
        "class Student:\n",
        "    def __init__(self, student_id, name, marks):\n",
        "        self.student_id = student_id\n",
        "        self.name = name\n",
        "        self.marks = marks\n",
        "\n",
        "    def to_dict(self):\n",
        "        \"\"\"Converts the Student object to a dictionary.\"\"\"\n",
        "        return {\n",
        "            'student_id': self.student_id,\n",
        "            'name': self.name,\n",
        "            'marks': self.marks\n",
        "        }"
      ]
    }
  ]
}