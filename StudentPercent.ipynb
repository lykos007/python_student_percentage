{
  "nbformat": 4,
  "nbformat_minor": 0,
  "metadata": {
    "colab": {
      "provenance": [],
      "authorship_tag": "ABX9TyOAYh0ZC416Du0sGJoPmejL",
      "include_colab_link": true
    },
    "kernelspec": {
      "name": "python3",
      "display_name": "Python 3"
    },
    "language_info": {
      "name": "python"
    }
  },
  "cells": [
    {
      "cell_type": "markdown",
      "metadata": {
        "id": "view-in-github",
        "colab_type": "text"
      },
      "source": [
        "<a href=\"https://colab.research.google.com/github/lykos007/python_student_percentage/blob/main/StudentPercent.ipynb\" target=\"_parent\"><img src=\"https://colab.research.google.com/assets/colab-badge.svg\" alt=\"Open In Colab\"/></a>"
      ]
    },
    {
      "cell_type": "code",
      "execution_count": 10,
      "metadata": {
        "id": "-Goj1YtOs9_i"
      },
      "outputs": [],
      "source": [
        "class Student:\n",
        "    students = []  # Class-level list to store student dictionaries\n",
        "\n",
        "    def __init__(self, student_id, name, marks):\n",
        "        self.student_id = student_id\n",
        "        self.name = name\n",
        "        self.marks = marks\n",
        "        self.percentage = None  # Initialize percentage as None initially\n",
        "\n",
        "    def to_dict(self):\n",
        "        \"\"\"Converts the Student object to a dictionary.\"\"\"\n",
        "        return {\n",
        "            'student_id': self.student_id,\n",
        "            'name': self.name,\n",
        "            'marks': self.marks,\n",
        "            'percentage': self.percentage\n",
        "\n",
        "        }\n",
        "\n",
        "    def calculate_percentage(self):\n",
        "        \"\"\"Calculates the percentage based on the marks.\"\"\"\n",
        "        if self.marks:\n",
        "            total_marks = sum(self.marks)\n",
        "            number_of_subjects = len(self.marks)\n",
        "            self.percentage = (total_marks / (number_of_subjects * 100)) * 100\n",
        "        else:\n",
        "            self.percentage = None  # If no marks are provided, set percentage to None\n",
        "\n",
        "    def add_to_students_list(self):\n",
        "        \"\"\"Adds the student dictionary to the class-level list.\"\"\"\n",
        "        student_dict = self.to_dict()\n",
        "\n",
        "        # Check if student is already in the list\n",
        "        for i, student_entry in enumerate(self.students):\n",
        "            if student_entry['student_id'] == self.student_id:\n",
        "                # Update existing entry\n",
        "                self.students[i] = student_dict\n",
        "                return\n",
        "\n",
        "        # If student is not in the list, add a new entry\n",
        "        self.students.append(student_dict)\n",
        "\n",
        "    @classmethod\n",
        "    def print_students(cls):\n",
        "        \"\"\"Prints student information excluding key-value pairs with values as None.\"\"\"\n",
        "        for student_entry in cls.students:\n",
        "            filtered_info = {key: value for key, value in student_entry.items() if value is not None}\n",
        "            print(filtered_info)\n",
        "\n"
      ]
    },
    {
      "cell_type": "code",
      "source": [
        "st1 = Student(1001, 'Leo', [100, 200, 300, 400, 500, 600])"
      ],
      "metadata": {
        "id": "-8UF8P25CL1r"
      },
      "execution_count": 11,
      "outputs": []
    },
    {
      "cell_type": "code",
      "source": [
        "st1_dict = st1.to_dict()"
      ],
      "metadata": {
        "id": "SSEpOurxtfBj"
      },
      "execution_count": 16,
      "outputs": []
    },
    {
      "cell_type": "code",
      "source": [
        "print(st1_dict)"
      ],
      "metadata": {
        "colab": {
          "base_uri": "https://localhost:8080/"
        },
        "id": "414qajWft6N8",
        "outputId": "7ac4ee76-6fdd-46e3-bdf6-62f8cf82f0af"
      },
      "execution_count": 17,
      "outputs": [
        {
          "output_type": "stream",
          "name": "stdout",
          "text": [
            "{'student_id': 1001, 'name': 'Leo', 'marks': [100, 200, 300, 400, 500, 600], 'percentage': None}\n"
          ]
        }
      ]
    },
    {
      "cell_type": "code",
      "source": [
        "st1.add_to_students_list()"
      ],
      "metadata": {
        "id": "oRcr1Zjuuf6g"
      },
      "execution_count": 18,
      "outputs": []
    },
    {
      "cell_type": "code",
      "source": [
        "Student.print_students()"
      ],
      "metadata": {
        "colab": {
          "base_uri": "https://localhost:8080/"
        },
        "id": "vtXLWTD8ul4f",
        "outputId": "082c0af6-18a4-4d9e-a3b2-570587725b59"
      },
      "execution_count": 19,
      "outputs": [
        {
          "output_type": "stream",
          "name": "stdout",
          "text": [
            "{'student_id': 1001, 'name': 'Leo', 'marks': [100, 200, 300, 400, 500, 600]}\n"
          ]
        }
      ]
    },
    {
      "cell_type": "code",
      "source": [
        "st1.calculate_percentage()"
      ],
      "metadata": {
        "id": "htt1VpqCvXzK"
      },
      "execution_count": 20,
      "outputs": []
    },
    {
      "cell_type": "code",
      "source": [
        "st1_dict = st1.to_dict()"
      ],
      "metadata": {
        "id": "e82pYkqJvgeA"
      },
      "execution_count": 21,
      "outputs": []
    },
    {
      "cell_type": "code",
      "source": [
        "print(st1_dict)"
      ],
      "metadata": {
        "colab": {
          "base_uri": "https://localhost:8080/"
        },
        "id": "rjeoo0vOvqgV",
        "outputId": "98591ce4-6245-4c8e-9ca9-3ddbac5ef459"
      },
      "execution_count": 22,
      "outputs": [
        {
          "output_type": "stream",
          "name": "stdout",
          "text": [
            "{'student_id': 1001, 'name': 'Leo', 'marks': [100, 200, 300, 400, 500, 600], 'percentage': 350.0}\n"
          ]
        }
      ]
    },
    {
      "cell_type": "code",
      "source": [
        "st1.add_to_students_list()"
      ],
      "metadata": {
        "id": "5uQQtK6jvyYm"
      },
      "execution_count": 23,
      "outputs": []
    },
    {
      "cell_type": "code",
      "source": [
        "Student.print_students()"
      ],
      "metadata": {
        "colab": {
          "base_uri": "https://localhost:8080/"
        },
        "id": "Bb8KaIjsv2wY",
        "outputId": "f3abccc8-b484-463d-b2a6-2b322b49f80e"
      },
      "execution_count": 24,
      "outputs": [
        {
          "output_type": "stream",
          "name": "stdout",
          "text": [
            "{'student_id': 1001, 'name': 'Leo', 'marks': [100, 200, 300, 400, 500, 600], 'percentage': 350.0}\n"
          ]
        }
      ]
    }
  ]
}