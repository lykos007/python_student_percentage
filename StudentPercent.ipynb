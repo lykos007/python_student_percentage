{
  "nbformat": 4,
  "nbformat_minor": 0,
  "metadata": {
    "colab": {
      "provenance": [],
      "authorship_tag": "ABX9TyPKq73yTDdErxoXl+aW2Nw2",
      "include_colab_link": true
    },
    "kernelspec": {
      "name": "python3",
      "display_name": "Python 3"
    },
    "language_info": {
      "name": "python"
    }
  },
  "cells": [
    {
      "cell_type": "markdown",
      "metadata": {
        "id": "view-in-github",
        "colab_type": "text"
      },
      "source": [
        "<a href=\"https://colab.research.google.com/github/lykos007/python_student_percentage/blob/main/StudentPercent.ipynb\" target=\"_parent\"><img src=\"https://colab.research.google.com/assets/colab-badge.svg\" alt=\"Open In Colab\"/></a>"
      ]
    },
    {
      "cell_type": "code",
      "execution_count": 43,
      "metadata": {
        "id": "-Goj1YtOs9_i"
      },
      "outputs": [],
      "source": [
        "class Student:\n",
        "    students = []  # Class-level list to store student dictionaries\n",
        "\n",
        "    def __init__(self, student_id, name, marks):\n",
        "        self.student_id = student_id\n",
        "        self.name = name\n",
        "        self.marks = marks\n",
        "        self.percentage = None  # Initialize percentage as None initially\n",
        "\n",
        "    def to_dict(self):\n",
        "        \"\"\"Converts the Student object to a dictionary.\"\"\"\n",
        "        return {\n",
        "            'student_id': self.student_id,\n",
        "            'name': self.name,\n",
        "            'marks': self.marks,\n",
        "            'percentage': self.percentage\n",
        "\n",
        "        }\n",
        "\n",
        "    def calculate_percentage(self):\n",
        "        \"\"\"Calculates the percentage based on the marks.\"\"\"\n",
        "        if self.marks:\n",
        "            total_marks = sum(self.marks)\n",
        "            number_of_subjects = len(self.marks)\n",
        "            self.percentage = (total_marks / (number_of_subjects * 1000)) * 100\n",
        "        else:\n",
        "            self.percentage = None  # If no marks are provided, set percentage to None\n",
        "\n",
        "    def add_to_students_list(self):\n",
        "        \"\"\"Adds the student dictionary to the class-level list.\"\"\"\n",
        "        student_dict = self.to_dict()\n",
        "\n",
        "        # Check if student is already in the list\n",
        "        for i, student_entry in enumerate(self.students):\n",
        "            if student_entry['student_id'] == self.student_id:\n",
        "                # Update existing entry\n",
        "                self.students[i] = student_dict\n",
        "                return\n",
        "\n",
        "        # If student is not in the list, add a new entry\n",
        "        self.students.append(student_dict)\n",
        "\n",
        "    @classmethod\n",
        "    def print_students(cls):\n",
        "        \"\"\"Prints student information excluding key-value pairs with values as None.\"\"\"\n",
        "        for student_entry in cls.students:\n",
        "            filtered_info = {key: value for key, value in student_entry.items() if value is not None}\n",
        "            print(filtered_info)\n",
        "\n"
      ]
    },
    {
      "cell_type": "code",
      "source": [
        "st1 = Student(1001, 'Leo', [100, 200, 300, 400, 500, 600])"
      ],
      "metadata": {
        "id": "-8UF8P25CL1r"
      },
      "execution_count": 44,
      "outputs": []
    },
    {
      "cell_type": "code",
      "source": [
        "st1_dict = st1.to_dict()"
      ],
      "metadata": {
        "id": "SSEpOurxtfBj"
      },
      "execution_count": 45,
      "outputs": []
    },
    {
      "cell_type": "code",
      "source": [
        "print(st1_dict)"
      ],
      "metadata": {
        "colab": {
          "base_uri": "https://localhost:8080/"
        },
        "id": "414qajWft6N8",
        "outputId": "7cfdb7d2-b057-40db-89ce-9af12e4ebfa5"
      },
      "execution_count": 46,
      "outputs": [
        {
          "output_type": "stream",
          "name": "stdout",
          "text": [
            "{'student_id': 1001, 'name': 'Leo', 'marks': [100, 200, 300, 400, 500, 600], 'percentage': None}\n"
          ]
        }
      ]
    },
    {
      "cell_type": "code",
      "source": [
        "st1.add_to_students_list()"
      ],
      "metadata": {
        "id": "oRcr1Zjuuf6g"
      },
      "execution_count": 47,
      "outputs": []
    },
    {
      "cell_type": "code",
      "source": [
        "Student.print_students()"
      ],
      "metadata": {
        "colab": {
          "base_uri": "https://localhost:8080/"
        },
        "id": "vtXLWTD8ul4f",
        "outputId": "bc9af7be-53e6-412c-834e-91aa33be95a3"
      },
      "execution_count": 48,
      "outputs": [
        {
          "output_type": "stream",
          "name": "stdout",
          "text": [
            "{'student_id': 1001, 'name': 'Leo', 'marks': [100, 200, 300, 400, 500, 600]}\n"
          ]
        }
      ]
    },
    {
      "cell_type": "code",
      "source": [
        "st1.calculate_percentage()"
      ],
      "metadata": {
        "id": "htt1VpqCvXzK"
      },
      "execution_count": 49,
      "outputs": []
    },
    {
      "cell_type": "code",
      "source": [
        "st1_dict = st1.to_dict()"
      ],
      "metadata": {
        "id": "e82pYkqJvgeA"
      },
      "execution_count": 50,
      "outputs": []
    },
    {
      "cell_type": "code",
      "source": [
        "print(st1_dict)"
      ],
      "metadata": {
        "colab": {
          "base_uri": "https://localhost:8080/"
        },
        "id": "rjeoo0vOvqgV",
        "outputId": "587b5532-2473-48ce-cbb1-0d6cef207c9b"
      },
      "execution_count": 51,
      "outputs": [
        {
          "output_type": "stream",
          "name": "stdout",
          "text": [
            "{'student_id': 1001, 'name': 'Leo', 'marks': [100, 200, 300, 400, 500, 600], 'percentage': 35.0}\n"
          ]
        }
      ]
    },
    {
      "cell_type": "code",
      "source": [
        "st1.add_to_students_list()"
      ],
      "metadata": {
        "id": "5uQQtK6jvyYm"
      },
      "execution_count": 52,
      "outputs": []
    },
    {
      "cell_type": "code",
      "source": [
        "Student.print_students()"
      ],
      "metadata": {
        "colab": {
          "base_uri": "https://localhost:8080/"
        },
        "id": "Bb8KaIjsv2wY",
        "outputId": "197d90d1-cbea-4a1e-d726-2d05bb4fe205"
      },
      "execution_count": 53,
      "outputs": [
        {
          "output_type": "stream",
          "name": "stdout",
          "text": [
            "{'student_id': 1001, 'name': 'Leo', 'marks': [100, 200, 300, 400, 500, 600], 'percentage': 35.0}\n"
          ]
        }
      ]
    },
    {
      "cell_type": "code",
      "source": [
        "st2 = Student(1002, 'Tom', [600, 600, 600, 600, 600, 600])\n"
      ],
      "metadata": {
        "id": "zwfOGlgCw1k_"
      },
      "execution_count": 54,
      "outputs": []
    },
    {
      "cell_type": "code",
      "source": [
        "st2.add_to_students_list()"
      ],
      "metadata": {
        "id": "9NPSWBzvxIX4"
      },
      "execution_count": 55,
      "outputs": []
    },
    {
      "cell_type": "code",
      "source": [
        "Student.print_students()"
      ],
      "metadata": {
        "colab": {
          "base_uri": "https://localhost:8080/"
        },
        "id": "r93Q2YbvxNA4",
        "outputId": "95b47019-cae5-4d75-9027-08a0b3748e67"
      },
      "execution_count": 56,
      "outputs": [
        {
          "output_type": "stream",
          "name": "stdout",
          "text": [
            "{'student_id': 1001, 'name': 'Leo', 'marks': [100, 200, 300, 400, 500, 600], 'percentage': 35.0}\n",
            "{'student_id': 1002, 'name': 'Tom', 'marks': [600, 600, 600, 600, 600, 600]}\n"
          ]
        }
      ]
    },
    {
      "cell_type": "code",
      "source": [
        "st3 = Student(1003, 'Ken', [500, 500, 500, 500, 500, 500])"
      ],
      "metadata": {
        "id": "USMKzd9KxUKI"
      },
      "execution_count": 57,
      "outputs": []
    },
    {
      "cell_type": "code",
      "source": [
        "st3.add_to_students_list()"
      ],
      "metadata": {
        "id": "aAtvaRewxltq"
      },
      "execution_count": 58,
      "outputs": []
    },
    {
      "cell_type": "code",
      "source": [
        "Student.print_students()"
      ],
      "metadata": {
        "colab": {
          "base_uri": "https://localhost:8080/"
        },
        "id": "ENJaSbUIxsC0",
        "outputId": "16c7de89-d4da-4ca6-c244-973273f7715e"
      },
      "execution_count": 59,
      "outputs": [
        {
          "output_type": "stream",
          "name": "stdout",
          "text": [
            "{'student_id': 1001, 'name': 'Leo', 'marks': [100, 200, 300, 400, 500, 600], 'percentage': 35.0}\n",
            "{'student_id': 1002, 'name': 'Tom', 'marks': [600, 600, 600, 600, 600, 600]}\n",
            "{'student_id': 1003, 'name': 'Ken', 'marks': [500, 500, 500, 500, 500, 500]}\n"
          ]
        }
      ]
    },
    {
      "cell_type": "code",
      "source": [
        "st2.calculate_percentage()"
      ],
      "metadata": {
        "id": "54F5KhqUxw-o"
      },
      "execution_count": 60,
      "outputs": []
    },
    {
      "cell_type": "code",
      "source": [
        "st2.add_to_students_list()"
      ],
      "metadata": {
        "id": "PFX41WMoxz3I"
      },
      "execution_count": 61,
      "outputs": []
    },
    {
      "cell_type": "code",
      "source": [
        "Student.print_students()"
      ],
      "metadata": {
        "colab": {
          "base_uri": "https://localhost:8080/"
        },
        "id": "tGNVSL30x2dL",
        "outputId": "8516ee32-2a3c-42b1-fde2-bd6c9e3a2b2f"
      },
      "execution_count": 62,
      "outputs": [
        {
          "output_type": "stream",
          "name": "stdout",
          "text": [
            "{'student_id': 1001, 'name': 'Leo', 'marks': [100, 200, 300, 400, 500, 600], 'percentage': 35.0}\n",
            "{'student_id': 1002, 'name': 'Tom', 'marks': [600, 600, 600, 600, 600, 600], 'percentage': 60.0}\n",
            "{'student_id': 1003, 'name': 'Ken', 'marks': [500, 500, 500, 500, 500, 500]}\n"
          ]
        }
      ]
    }
  ]
}